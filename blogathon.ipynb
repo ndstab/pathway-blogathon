{
  "nbformat": 4,
  "nbformat_minor": 0,
  "metadata": {
    "colab": {
      "provenance": [],
      "toc_visible": true
    },
    "kernelspec": {
      "name": "python3",
      "display_name": "Python 3"
    },
    "language_info": {
      "name": "python"
    }
  },
  "cells": [
    {
      "cell_type": "code",
      "source": [
        "#all the imports\n",
        "import numpy as np\n",
        "import pandas as pd\n",
        "import matplotlib.pyplot as plt\n",
        "from collections import Counter\n",
        "from sklearn.preprocessing import normalize\n",
        "import gensim.downloader as api\n",
        "from gensim.scripts.glove2word2vec import glove2word2vec\n",
        "from gensim.models import KeyedVectors\n",
        "from sklearn.feature_extraction.text import CountVectorizer, TfidfVectorizer\n",
        "from nltk.corpus import stopwords\n",
        "import nltk\n",
        "from sklearn.metrics.pairwise import cosine_similarity\n",
        "from sklearn.decomposition import PCA\n",
        "from sklearn.manifold import TSNE"
      ],
      "metadata": {
        "id": "3INtGTb0fqAK"
      },
      "execution_count": null,
      "outputs": []
    },
    {
      "cell_type": "code",
      "source": [
        "#downloading the embeddings\n",
        "!wget http://nlp.stanford.edu/data/glove.6B.zip\n",
        "!unzip glove.6B.zip\n"
      ],
      "metadata": {
        "colab": {
          "base_uri": "https://localhost:8080/"
        },
        "id": "_DbzUzPyK5fF",
        "outputId": "024528ce-da43-4b02-f289-ab353eb132ec"
      },
      "execution_count": 9,
      "outputs": [
        {
          "output_type": "stream",
          "name": "stdout",
          "text": [
            "--2024-09-28 17:42:03--  http://nlp.stanford.edu/data/glove.6B.zip\n",
            "Resolving nlp.stanford.edu (nlp.stanford.edu)... 171.64.67.140\n",
            "Connecting to nlp.stanford.edu (nlp.stanford.edu)|171.64.67.140|:80... connected.\n",
            "HTTP request sent, awaiting response... 302 Found\n",
            "Location: https://nlp.stanford.edu/data/glove.6B.zip [following]\n",
            "--2024-09-28 17:42:03--  https://nlp.stanford.edu/data/glove.6B.zip\n",
            "Connecting to nlp.stanford.edu (nlp.stanford.edu)|171.64.67.140|:443... connected.\n",
            "HTTP request sent, awaiting response... 301 Moved Permanently\n",
            "Location: https://downloads.cs.stanford.edu/nlp/data/glove.6B.zip [following]\n",
            "--2024-09-28 17:42:04--  https://downloads.cs.stanford.edu/nlp/data/glove.6B.zip\n",
            "Resolving downloads.cs.stanford.edu (downloads.cs.stanford.edu)... 171.64.64.22\n",
            "Connecting to downloads.cs.stanford.edu (downloads.cs.stanford.edu)|171.64.64.22|:443... connected.\n",
            "HTTP request sent, awaiting response... 200 OK\n",
            "Length: 862182613 (822M) [application/zip]\n",
            "Saving to: ‘glove.6B.zip’\n",
            "\n",
            "glove.6B.zip        100%[===================>] 822.24M  5.13MB/s    in 2m 43s  \n",
            "\n",
            "2024-09-28 17:44:48 (5.04 MB/s) - ‘glove.6B.zip’ saved [862182613/862182613]\n",
            "\n",
            "Archive:  glove.6B.zip\n",
            "  inflating: glove.6B.50d.txt        \n",
            "  inflating: glove.6B.100d.txt       \n",
            "  inflating: glove.6B.200d.txt       \n",
            "  inflating: glove.6B.300d.txt       \n"
          ]
        }
      ]
    },
    {
      "cell_type": "code",
      "source": [
        "model = api.load(\"word2vec-google-news-300\")\n",
        "glove_model = api.load(\"glove-wiki-gigaword-100\")"
      ],
      "metadata": {
        "id": "XmRrvDsZpmD2"
      },
      "execution_count": 1,
      "outputs": []
    },
    {
      "cell_type": "code",
      "source": [
        "#conversion between the models to apply to other methods\n",
        "glove_input_file = 'glove.6B.100d.txt'\n",
        "word2vec_output_file = 'glove.6B.100d.word2vec.txt'\n",
        "glove2word2vec(glove_input_file, word2vec_output_file)\n",
        "model = KeyedVectors.load_word2vec_format(word2vec_output_file, binary=False)"
      ],
      "metadata": {
        "colab": {
          "base_uri": "https://localhost:8080/"
        },
        "id": "8A24rQV8T2ta",
        "outputId": "baa2b8bc-3966-4693-9ab7-c6c76f1377d5"
      },
      "execution_count": 11,
      "outputs": [
        {
          "output_type": "stream",
          "name": "stderr",
          "text": [
            "<ipython-input-11-930b11f16266>:6: DeprecationWarning: Call to deprecated `glove2word2vec` (KeyedVectors.load_word2vec_format(.., binary=False, no_header=True) loads GLoVE text vectors.).\n",
            "  glove2word2vec(glove_input_file, word2vec_output_file)\n"
          ]
        }
      ]
    },
    {
      "cell_type": "code",
      "source": [
        "# Download stopwords\n",
        "nltk.download('stopwords')\n",
        "sw = stopwords.words('english')\n",
        "\n",
        "# Sample dataset\n",
        "search_queries = [\n",
        "    \"buy laptop online\",\n",
        "    \"cheap laptops for sale\",\n",
        "    \"best gaming laptop\",\n",
        "    \"online shopping for electronics\",\n",
        "    \"buy smartphone online\",\n",
        "    \"cheap mobile phones\",\n",
        "    \"best budget smartphone\",\n",
        "    \"latest smartphone models\",\n",
        "    \"buy books online\",\n",
        "    \"top books to read\",\n",
        "    \"best fantasy books\"\n",
        "]\n",
        "\n",
        "corpus = [] #creating the corpus\n",
        "for query in search_queries:\n",
        "    review = query.lower()\n",
        "    review = review.split()\n",
        "    review = [word for word in review if word not in set(sw)]\n",
        "    review = ' '.join(review)\n",
        "    corpus.append(review)\n",
        "\n",
        "#vectorization of BOW\n",
        "vectorizer_bow = CountVectorizer()\n",
        "X_bow = vectorizer_bow.fit_transform(corpus)\n",
        "X_bow_dense = X_bow.toarray()\n",
        "df_bow = pd.DataFrame(X_bow_dense, columns=vectorizer_bow.get_feature_names_out())\n",
        "df_bow.insert(0, 'Index', range(len(corpus)))\n",
        "print(\"Bag of Words (BOW) Table:\")\n",
        "print(df_bow.to_string(index=False))\n",
        "\n",
        "#tf-idf representation\n",
        "vectorizer_tfidf = TfidfVectorizer()\n",
        "X_tfidf = vectorizer_tfidf.fit_transform(corpus)\n",
        "X_tfidf_dense = X_tfidf.toarray()\n",
        "df_tfidf = pd.DataFrame(X_tfidf_dense, columns=vectorizer_tfidf.get_feature_names_out())\n",
        "df_tfidf.insert(0, 'Index', range(len(corpus)))\n",
        "print(\"\\nTF-IDF Table:\")\n",
        "print(df_tfidf.to_string(index=False))\n"
      ],
      "metadata": {
        "colab": {
          "base_uri": "https://localhost:8080/"
        },
        "id": "q8Tp2r8vE1ru",
        "outputId": "355f0a9a-b317-4157-f5da-8d7008176eca"
      },
      "execution_count": 1,
      "outputs": [
        {
          "output_type": "stream",
          "name": "stderr",
          "text": [
            "[nltk_data] Downloading package stopwords to /root/nltk_data...\n",
            "[nltk_data]   Unzipping corpora/stopwords.zip.\n"
          ]
        },
        {
          "output_type": "stream",
          "name": "stdout",
          "text": [
            "Bag of Words (BOW) Table:\n",
            " Index  best  books  budget  buy  cheap  electronics  fantasy  gaming  laptop  laptops  latest  mobile  models  online  phones  read  sale  shopping  smartphone  top\n",
            "     0     0      0       0    1      0            0        0       0       1        0       0       0       0       1       0     0     0         0           0    0\n",
            "     1     0      0       0    0      1            0        0       0       0        1       0       0       0       0       0     0     1         0           0    0\n",
            "     2     1      0       0    0      0            0        0       1       1        0       0       0       0       0       0     0     0         0           0    0\n",
            "     3     0      0       0    0      0            1        0       0       0        0       0       0       0       1       0     0     0         1           0    0\n",
            "     4     0      0       0    1      0            0        0       0       0        0       0       0       0       1       0     0     0         0           1    0\n",
            "     5     0      0       0    0      1            0        0       0       0        0       0       1       0       0       1     0     0         0           0    0\n",
            "     6     1      0       1    0      0            0        0       0       0        0       0       0       0       0       0     0     0         0           1    0\n",
            "     7     0      0       0    0      0            0        0       0       0        0       1       0       1       0       0     0     0         0           1    0\n",
            "     8     0      1       0    1      0            0        0       0       0        0       0       0       0       1       0     0     0         0           0    0\n",
            "     9     0      1       0    0      0            0        0       0       0        0       0       0       0       0       0     1     0         0           0    1\n",
            "    10     1      1       0    0      0            0        1       0       0        0       0       0       0       0       0     0     0         0           0    0\n",
            "\n",
            "TF-IDF Table:\n",
            " Index     best    books   budget      buy    cheap  electronics  fantasy   gaming   laptop  laptops   latest   mobile   models   online   phones     read     sale  shopping  smartphone      top\n",
            "     0 0.000000 0.000000 0.000000 0.568733 0.000000     0.000000 0.000000 0.000000 0.646696 0.000000 0.000000 0.000000 0.000000 0.508260 0.000000 0.000000 0.000000  0.000000    0.000000 0.000000\n",
            "     1 0.000000 0.000000 0.000000 0.000000 0.517268     0.000000 0.000000 0.000000 0.000000 0.605159 0.000000 0.000000 0.000000 0.000000 0.000000 0.000000 0.605159  0.000000    0.000000 0.000000\n",
            "     2 0.496131 0.000000 0.000000 0.000000 0.000000     0.000000 0.000000 0.659998 0.564142 0.000000 0.000000 0.000000 0.000000 0.000000 0.000000 0.000000 0.000000  0.000000    0.000000 0.000000\n",
            "     3 0.000000 0.000000 0.000000 0.000000 0.000000     0.638707 0.000000 0.000000 0.000000 0.000000 0.000000 0.000000 0.000000 0.429076 0.000000 0.000000 0.000000  0.638707    0.000000 0.000000\n",
            "     4 0.000000 0.000000 0.000000 0.597759 0.000000     0.000000 0.000000 0.000000 0.000000 0.000000 0.000000 0.000000 0.000000 0.534200 0.000000 0.000000 0.000000  0.000000    0.597759 0.000000\n",
            "     5 0.000000 0.000000 0.000000 0.000000 0.517268     0.000000 0.000000 0.000000 0.000000 0.000000 0.000000 0.605159 0.000000 0.000000 0.605159 0.000000 0.000000  0.000000    0.000000 0.000000\n",
            "     6 0.515049 0.000000 0.685164 0.000000 0.000000     0.000000 0.000000 0.000000 0.000000 0.000000 0.000000 0.000000 0.000000 0.000000 0.000000 0.000000 0.000000  0.000000    0.515049 0.000000\n",
            "     7 0.000000 0.000000 0.000000 0.000000 0.000000     0.000000 0.000000 0.000000 0.000000 0.000000 0.624381 0.000000 0.624381 0.000000 0.000000 0.000000 0.000000  0.000000    0.469358 0.000000\n",
            "     8 0.000000 0.597759 0.000000 0.597759 0.000000     0.000000 0.000000 0.000000 0.000000 0.000000 0.000000 0.000000 0.000000 0.534200 0.000000 0.000000 0.000000  0.000000    0.000000 0.000000\n",
            "     9 0.000000 0.469358 0.000000 0.000000 0.000000     0.000000 0.000000 0.000000 0.000000 0.000000 0.000000 0.000000 0.000000 0.000000 0.000000 0.624381 0.000000  0.000000    0.000000 0.624381\n",
            "    10 0.515049 0.515049 0.000000 0.000000 0.000000     0.000000 0.685164 0.000000 0.000000 0.000000 0.000000 0.000000 0.000000 0.000000 0.000000 0.000000 0.000000  0.000000    0.000000 0.000000\n"
          ]
        }
      ]
    },
    {
      "cell_type": "code",
      "source": [
        "#similar suggestions from the word2vec model\n",
        "example_word = \"computer\"\n",
        "similar_words = model.most_similar(example_word, topn=10)\n",
        "print(f\"Top 10 words similar to '{example_word}':\")\n",
        "for word, similarity in similar_words:\n",
        "    print(f\"{word}: {similarity:.4f}\")"
      ],
      "metadata": {
        "colab": {
          "base_uri": "https://localhost:8080/"
        },
        "id": "wxhkjdhLggeR",
        "outputId": "c7dc42de-4fd9-4aff-ff39-e4d27642160b"
      },
      "execution_count": 10,
      "outputs": [
        {
          "output_type": "stream",
          "name": "stdout",
          "text": [
            "Top 10 words similar to 'computer':\n",
            "computers: 0.7979\n",
            "laptop: 0.6640\n",
            "laptop_computer: 0.6549\n",
            "Computer: 0.6473\n",
            "com_puter: 0.6082\n",
            "technician_Leonard_Luchko: 0.5663\n",
            "mainframes_minicomputers: 0.5618\n",
            "laptop_computers: 0.5585\n",
            "PC: 0.5540\n",
            "maker_Dell_DELL.O: 0.5519\n"
          ]
        }
      ]
    },
    {
      "cell_type": "code",
      "source": [
        "#embedding vector for the word \"computer\"\n",
        "word = 'computer'\n",
        "# Get the embedding vector for the word\n",
        "embedding_vector = model[word]\n",
        "\n",
        "# Display the embedding vector\n",
        "print(f\"Embedding vector for the word '{word}':\\n\")\n",
        "print(f\"{embedding_vector[0:11]} ..... {embedding_vector[-10:]}\") #here we have displayed only the first 10 and last 10 values, the actual dimension is 300"
      ],
      "metadata": {
        "colab": {
          "base_uri": "https://localhost:8080/"
        },
        "id": "DMrp2g_yoTyx",
        "outputId": "15dcb74a-b63b-4441-80fb-e6de146aceef"
      },
      "execution_count": 4,
      "outputs": [
        {
          "output_type": "stream",
          "name": "stdout",
          "text": [
            "Embedding vector for the word 'computer':\n",
            "\n",
            "[ 0.10742188 -0.20117188  0.12304688  0.21191406 -0.09130859  0.21679688\n",
            " -0.13183594  0.08300781  0.20214844  0.04785156  0.03662109] ..... [-0.38085938  0.17089844  0.05664062 -0.10449219  0.13867188 -0.15722656\n",
            "  0.00323486 -0.0480957  -0.24804688 -0.06201172]\n"
          ]
        }
      ]
    },
    {
      "cell_type": "code",
      "source": [
        "# sample corpus\n",
        "corpus = [\n",
        "    \"I like pathway\",\n",
        "    \"I like NLP\",\n",
        "    \"I enjoy pathway\",\n",
        "    \"deep learning is fun\",\n",
        "    \"NLP is amazing\",\n",
        "    \"pathway is fun\"\n",
        "]\n",
        "window_size = 2 #window size\n",
        "words = set([word for sentence in corpus for word in sentence.split()])\n",
        "vocab = list(words)\n",
        "vocab_size = len(vocab)\n",
        "word_index = {word: i for i, word in enumerate(vocab)}\n",
        "co_occurrence_matrix = np.zeros((vocab_size, vocab_size))\n",
        "\n",
        "# build cooccurence matrix\n",
        "for sentence in corpus:\n",
        "    tokens = sentence.split()\n",
        "    for i, word in enumerate(tokens):\n",
        "        word_id = word_index[word]\n",
        "        start = max(i - window_size, 0)\n",
        "        end = min(i + window_size + 1, len(tokens))\n",
        "        for j in range(start, end):\n",
        "            if i != j:\n",
        "                context_word_id = word_index[tokens[j]]\n",
        "                co_occurrence_matrix[word_id][context_word_id] += 1\n",
        "#displaying in a dataframe\n",
        "co_occurrence_df = pd.DataFrame(co_occurrence_matrix, index=vocab, columns=vocab)\n",
        "print(\"Co-occurrence Matrix:\")\n",
        "print(co_occurrence_df)\n"
      ],
      "metadata": {
        "colab": {
          "base_uri": "https://localhost:8080/"
        },
        "id": "WVikeKoUva_r",
        "outputId": "c3a54d75-c4b1-4e87-8bec-11b6e02f69b0"
      },
      "execution_count": 27,
      "outputs": [
        {
          "output_type": "stream",
          "name": "stdout",
          "text": [
            "Co-occurrence Matrix:\n",
            "          learning  deep  pathway    I  like  NLP  amazing  enjoy  fun   is\n",
            "learning       0.0   1.0      0.0  0.0   0.0  0.0      0.0    0.0  1.0  1.0\n",
            "deep           1.0   0.0      0.0  0.0   0.0  0.0      0.0    0.0  0.0  1.0\n",
            "pathway        0.0   0.0      0.0  2.0   1.0  0.0      0.0    1.0  1.0  1.0\n",
            "I              0.0   0.0      2.0  0.0   2.0  1.0      0.0    1.0  0.0  0.0\n",
            "like           0.0   0.0      1.0  2.0   0.0  1.0      0.0    0.0  0.0  0.0\n",
            "NLP            0.0   0.0      0.0  1.0   1.0  0.0      1.0    0.0  0.0  1.0\n",
            "amazing        0.0   0.0      0.0  0.0   0.0  1.0      0.0    0.0  0.0  1.0\n",
            "enjoy          0.0   0.0      1.0  1.0   0.0  0.0      0.0    0.0  0.0  0.0\n",
            "fun            1.0   0.0      1.0  0.0   0.0  0.0      0.0    0.0  0.0  2.0\n",
            "is             1.0   1.0      1.0  0.0   0.0  1.0      1.0    0.0  2.0  0.0\n"
          ]
        }
      ]
    },
    {
      "cell_type": "code",
      "source": [
        "# getting similar suggestions from the glove model\n",
        "def find_similar_words(word, model, topn=10):\n",
        "    word_vector = model[word]\n",
        "    similarities = {}\n",
        "    for other_word, other_vector in model.items():\n",
        "        if other_word != word:\n",
        "            similarity = cosine_similarity([word_vector], [other_vector])[0][0]\n",
        "            similarities[other_word] = similarity\n",
        "    similar_words = sorted(similarities.items(), key=lambda item: item[1], reverse=True)[:topn]\n",
        "    return similar_words\n",
        "example_word = \"lovely\"\n",
        "similar_words_glove = find_similar_words(example_word, glove_model, topn=10)\n",
        "print(f\"Top 10 words similar to '{example_word}' (GloVe):\")\n",
        "for word, similarity in similar_words_glove:\n",
        "    print(f\"{word}: {similarity:.4f}\")\n"
      ],
      "metadata": {
        "colab": {
          "base_uri": "https://localhost:8080/"
        },
        "id": "6RhQokEsys51",
        "outputId": "5885bc24-4dec-44e1-8244-b501bb8140ff"
      },
      "execution_count": 15,
      "outputs": [
        {
          "output_type": "stream",
          "name": "stdout",
          "text": [
            "Top 10 words similar to 'lovely' (GloVe):\n",
            "beautiful: 0.8909\n",
            "gorgeous: 0.8785\n",
            "wonderful: 0.8121\n",
            "charming: 0.8051\n",
            "delightful: 0.7723\n",
            "elegant: 0.7250\n",
            "fabulous: 0.7017\n",
            "wonderfully: 0.6976\n",
            "nice: 0.6888\n",
            "cute: 0.6816\n"
          ]
        }
      ]
    },
    {
      "cell_type": "code",
      "source": [
        "#analogy representation in code\n",
        "result = model.most_similar(positive=['king', 'woman'], negative=['man'])\n",
        "for i in result:\n",
        "    print(f\"{i[0]:<{20}} {i[1]:.6f}\")"
      ],
      "metadata": {
        "colab": {
          "base_uri": "https://localhost:8080/"
        },
        "id": "d5E85Uf923gO",
        "outputId": "ed9e93de-0860-4580-9685-006f276bb179"
      },
      "execution_count": 9,
      "outputs": [
        {
          "output_type": "stream",
          "name": "stdout",
          "text": [
            "queen                0.71182\n",
            "monarch              0.61897\n",
            "princess             0.59024\n",
            "crown_prince         0.54995\n",
            "prince               0.53773\n",
            "kings                0.52368\n",
            "Queen_Consort        0.52359\n",
            "queens               0.51811\n",
            "sultan               0.50986\n",
            "monarchy             0.50874\n"
          ]
        }
      ]
    },
    {
      "cell_type": "code",
      "source": [
        "#plot pca and tsne to display the analogies for the vectors\n",
        "def load_glove_model(glove_file):\n",
        "    model = {}\n",
        "    with open(glove_file, 'r', encoding='utf-8') as f:\n",
        "        for line in f:\n",
        "            split_line = line.split()\n",
        "            word = split_line[0]\n",
        "            embedding = np.array([float(val) for val in split_line[1:]])\n",
        "            model[word] = embedding\n",
        "    return model\n",
        "\n",
        "glove_file = 'glove.6B.100d.txt'\n",
        "glove_model = load_glove_model(glove_file)\n",
        "\n",
        "words = ['king', 'queen', 'man', 'woman']\n",
        "king = glove_model['king']\n",
        "queen = glove_model['queen']\n",
        "man = glove_model['man']\n",
        "woman = glove_model['woman']\n",
        "\n",
        "result_vector = king - man + woman\n",
        "\n",
        "cos_sim = cosine_similarity([result_vector], [queen])[0][0]\n",
        "print(f\"Cosine Similarity (king - man + woman vs. queen): {cos_sim}\")\n",
        "\n",
        "vectors = np.vstack([king, queen, man, woman, result_vector])\n",
        "words_with_result = words + ['king - man + woman']\n",
        "\n",
        "pca = PCA(n_components=2)\n",
        "pca_result = pca.fit_transform(vectors)\n",
        "\n",
        "tsne = TSNE(n_components=2, perplexity=2, random_state=42)\n",
        "tsne_result = tsne.fit_transform(vectors)\n",
        "\n",
        "fig, (ax1, ax2) = plt.subplots(1, 2, figsize=(12, 6))\n",
        "\n",
        "ax1.scatter(pca_result[:, 0], pca_result[:, 1], color='blue')\n",
        "for i, word in enumerate(words_with_result):\n",
        "    ax1.annotate(word, (pca_result[i, 0], pca_result[i, 1]))\n",
        "ax1.set_title('PCA Plot')\n",
        "\n",
        "ax2.scatter(tsne_result[:, 0], tsne_result[:, 1], color='green')\n",
        "for i, word in enumerate(words_with_result):\n",
        "    ax2.annotate(word, (tsne_result[i, 0], tsne_result[i, 1]))\n",
        "ax2.set_title('t-SNE Plot')\n",
        "\n",
        "plt.show()\n"
      ],
      "metadata": {
        "colab": {
          "base_uri": "https://localhost:8080/",
          "height": 545
        },
        "id": "B3P0bMdelG_i",
        "outputId": "20d1c487-c158-4556-f92c-7e1995b5c3eb"
      },
      "execution_count": 12,
      "outputs": [
        {
          "output_type": "display_data",
          "data": {
            "text/plain": [
              "<Figure size 1200x600 with 2 Axes>"
            ],
            "image/png": "[encoded data removed]"
          },
          "metadata": {}
        }
      ]
    }
  ]
}